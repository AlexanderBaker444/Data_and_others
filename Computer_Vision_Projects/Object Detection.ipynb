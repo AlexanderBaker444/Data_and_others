{
 "cells": [
  {
   "cell_type": "code",
   "execution_count": null,
   "metadata": {},
   "outputs": [],
   "source": [
    "import cv2\n",
    "import numpy as np\n",
    "\n",
    "def ORB_detector(new_image,image_template):\n",
    "    \n",
    "    image1=cv2.cvtColor(new_image,cv2.COLOR_BGR2GRAY)\n",
    "    \n",
    "    orb=cv2.ORB(100,1.2)\n",
    "    \n",
    "    (kp1,des1)=orb.detectAndCompute(image1,None)\n",
    "    \n",
    "    (kp2,des2)=orb.detectAndCompute(image_template,None)\n",
    "    \n",
    "    bf = cv2.BFMatcher(cv2.NORM_HAMMING,crossCheck=True)\n",
    "    \n",
    "    matches = bf.match(des1,des2)\n",
    "    matches = sored(matches,key=lambda val: val.distance)\n",
    "    \n",
    "    return len(matches)\n",
    "\n",
    "cap = cv2.VideoCapture(0)\n",
    "\n",
    "image_template = cv2.imread('box_in_scene.png',0)\n",
    "\n",
    "while True:\n",
    "    ret,frame = cap.read()\n",
    "    height,width = frame.shape[:2]\n",
    "    \n",
    "    top_left_x=width/3\n",
    "    top_left_y = (height/2)+(height/4)\n",
    "    bottom_right_x = (width/3)*2\n",
    "    bottom_right_y = (height/2)-(height/4)\n",
    "    \n",
    "    cv2.rectangle(frame,(top_left_x,top_left_y),(bottom_right_x,bottom_right_y),255,3)\n",
    "    \n",
    "    cropped =frame[bottom_right_y:top_left_y,top_left_x:bottom_right_x]\n",
    "    \n",
    "    frame = cv2.filp(frame,1)\n",
    "    \n",
    "    matches=ORB_detector(cropped,image_template)\n",
    "    \n",
    "    output_string=\"Matches\" + str(matches)\n",
    "    \n",
    "    cv2.putText(frame,output_string,(50,450),cv2.FONT_HERSHEY_COMPLEX,2,(250,0,150),2)\n",
    "    threshold = 350\n",
    "    \n",
    "    if matches>threshold:\n",
    "        cv2.rectangle(frame,(top_left,top_left_y),(bottom_right_x,bottom_right_y),(0,255,0),2)\n",
    "        cv2.putText(frame,'Object Found',(50,50),cv2.FONT_HERSHEY_COMPLEX,2,(0,255,0),2)\n",
    "        \n",
    "    cv2.imshow('Object Detector using ORB',frame)\n",
    "    \n",
    "    if cv2.waitKey(1) == 13:\n",
    "        break\n",
    "cap.release()\n",
    "cv2.detroyAllWindows()"
   ]
  }
 ],
 "metadata": {
  "kernelspec": {
   "display_name": "Python 3",
   "language": "python",
   "name": "python3"
  },
  "language_info": {
   "codemirror_mode": {
    "name": "ipython",
    "version": 3
   },
   "file_extension": ".py",
   "mimetype": "text/x-python",
   "name": "python",
   "nbconvert_exporter": "python",
   "pygments_lexer": "ipython3",
   "version": "3.7.3"
  }
 },
 "nbformat": 4,
 "nbformat_minor": 2
}
