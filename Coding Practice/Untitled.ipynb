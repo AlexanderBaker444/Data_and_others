{
 "cells": [
  {
   "cell_type": "code",
   "execution_count": 1,
   "metadata": {},
   "outputs": [],
   "source": [
    "class Calculator:\n",
    "    num1=1\n",
    "    num2=2\n",
    "    def __init__(self,num1,num2):\n",
    "        self.num1=num1\n",
    "        self.num2=num2\n",
    "    \n",
    "    def add(num1,num2):\n",
    "        return num1+num2\n",
    "    "
   ]
  },
  {
   "cell_type": "code",
   "execution_count": 4,
   "metadata": {},
   "outputs": [
    {
     "data": {
      "text/plain": [
       "1"
      ]
     },
     "execution_count": 4,
     "metadata": {},
     "output_type": "execute_result"
    }
   ],
   "source": [
    "Calculator.add(num1=1,num2=2)\n"
   ]
  },
  {
   "cell_type": "code",
   "execution_count": 28,
   "metadata": {},
   "outputs": [],
   "source": [
    "import numpy as np\n",
    "\n",
    "def sigmoid(x):\n",
    "    return (1/(1 + np.exp(-x)))\n",
    "    \n",
    "def sigmoid_derivative(x):\n",
    "    return (1/(1 + np.exp(-x))) * (1 - (1/(1 + np.exp(-x))))\n",
    "\n",
    "\n",
    "class NeuralNetwork:\n",
    "    def __init__(self, x, y):\n",
    "        self.input      = x\n",
    "        self.weights1   = np.random.rand(self.input.shape[1],4) \n",
    "        self.weights2   = np.random.rand(4,1)                 \n",
    "        self.y          = y\n",
    "        self.output     = np.zeros(self.y.shape)\n",
    "\n",
    "    def feedforward(self):\n",
    "        self.layer1 = sigmoid(np.dot(self.input, self.weights1))\n",
    "        self.output = sigmoid(np.dot(self.layer1, self.weights2))\n",
    "\n",
    "    def backprop(self):\n",
    "        # application of the chain rule to find derivative of the loss function with respect to weights2 and weights1\n",
    "        d_weights2 = np.dot(self.layer1.T, (2*(self.y - self.output) * sigmoid_derivative(self.output)))\n",
    "        d_weights1 = np.dot(self.input.T,  (np.dot(2*(self.y - self.output) * sigmoid_derivative(self.output), self.weights2.T) * sigmoid_derivative(self.layer1)))\n",
    "\n",
    "        # update the weights with the derivative (slope) of the loss function\n",
    "        self.weights1 += d_weights1\n",
    "        self.weights2 += d_weights2"
   ]
  },
  {
   "cell_type": "code",
   "execution_count": null,
   "metadata": {},
   "outputs": [],
   "source": [
    "class LogisticRegression:\n",
    "    def __init__(self,lr=0.01,nu_iter=100000,,fit_intercept=True):\n",
    "        self.lr=lr\n",
    "        self.fit_intercept=intercept\n",
    "        self.num_iter=num_iter\n",
    "        \n",
    "    def __add_intercept(self,X):\n",
    "        intercept=np.ones(X.shape[0],1)\n",
    "        return np.concatenate((intercept,X),axis=1)\n",
    "    \n",
    "    def __sigmoid(self,z):\n",
    "        return 1/(1+np.exp(-z))\n",
    "    \n",
    "    def __loss(self,h,y):\n",
    "        return (-y*log(h)-(1-y)*np.log(1-h)).mean()\n",
    "    \n",
    "    def fit(X,y):\n",
    "        if self.fit_intercept:\n",
    "            X=self.__add_intercept(X)\n",
    "            \n",
    "        self.theta=np.zeros(X.shape[1])\n",
    "        \n",
    "        for i in range(self.num_iter):\n",
    "            z=np.dot(X,self.theta)\n",
    "            h=self.sigmoid(z)\n",
    "            gradient = np.dot(X.T, (h-y))/y.size\n",
    "            self.theta -= self.lr*gradient\n",
    "            \n",
    "            if(self.verbose == True and i % 10000 ==0):\n",
    "                z=np.dot(X,self.theta)\n",
    "                h=self.__sigmoid(z)\n",
    "                \n",
    "    def predict_prob(self,X):\n",
    "        if self.fit_intercept:\n",
    "            X=self.__add_intercept(X)\n",
    "        \n",
    "        return self.sigmoid(np.dot(X,self.theta))\n",
    "    \n",
    "    def predict(Self,X,threshold):\n",
    "        return self.predict_prob(X) >= threshold \n",
    "        "
   ]
  },
  {
   "cell_type": "code",
   "execution_count": 101,
   "metadata": {},
   "outputs": [],
   "source": [
    "class Card:\n",
    "    \n",
    "    \n",
    "    \n",
    "    def __init__(self,value,suit):\n",
    "        self.value=value\n",
    "        self.suit=suit\n",
    "        \n",
    "    def create_card(self):\n",
    "        card=[self.value,self.suit]\n",
    "        print(str(self.value) + \" of \"+ self.suit)\n",
    "        return card\n",
    "        \n"
   ]
  },
  {
   "cell_type": "code",
   "execution_count": 172,
   "metadata": {},
   "outputs": [],
   "source": [
    "class Deck(): \n",
    "    \n",
    "    def __init__(self):\n",
    "        self.possible_values=list(map(str,range(2,10)))+['Jack','Queen','King','Ace']\n",
    "        self.suits=['Clubs','Diamonds','Spades','Hearts']\n",
    "        self.stack=[]\n",
    "        \n",
    "    def create_stack(self):\n",
    "        stack=[]\n",
    "        stack_of_numbers=[]\n",
    "        stack_of_suits=[]\n",
    "        \n",
    "        for i in range(1,4):\n",
    "            for j in self.possible_values:\n",
    "                stack_of_numbers.append(j)\n",
    "        for k in range(1,13):\n",
    "            for l in self.suits:\n",
    "                stack_of_suits.append(l)\n",
    "        for i in range(0,len(stack_of_numbers)):\n",
    "            value=stack_of_numbers[i]\n",
    "            suit=stack_of_suits[i]\n",
    "            stack.append(Card(value,suit).create_card())\n",
    "        return stack"
   ]
  },
  {
   "cell_type": "code",
   "execution_count": null,
   "metadata": {},
   "outputs": [],
   "source": []
  },
  {
   "cell_type": "code",
   "execution_count": 160,
   "metadata": {},
   "outputs": [],
   "source": [
    "class Human:\n",
    "    def __init__(self,fname,lname):\n",
    "        self.fname=fname\n",
    "        self.lname=lname\n",
    "        \n",
    "    def intro(self):\n",
    "        print(\"Hi my name is \" + self.fname + \" \" + self.lname)\n",
    "\n",
    "class Student(Human):\n",
    "    \n",
    "    def __init__(self,fname,lname,gyear,school):\n",
    "        super().__init__(fname,lname)\n",
    "        self.gyear=gyear\n",
    "        self.school=school\n",
    "        \n",
    "    def school_info(self):\n",
    "        print(self.fname + \" \" + self.lname + ' goes to ' + self.school + ' graduating ' + self.gyear)\n",
    "        \n",
    "        \n",
    "    "
   ]
  },
  {
   "cell_type": "code",
   "execution_count": 161,
   "metadata": {},
   "outputs": [
    {
     "name": "stdout",
     "output_type": "stream",
     "text": [
      "Josh Peck goes to 2018 graduating Chantilly\n"
     ]
    }
   ],
   "source": [
    "Student('Josh','Peck','Chantilly','2018').school_info()"
   ]
  },
  {
   "cell_type": "code",
   "execution_count": 173,
   "metadata": {},
   "outputs": [
    {
     "name": "stdout",
     "output_type": "stream",
     "text": [
      "2 of Clubs\n",
      "3 of Diamonds\n",
      "4 of Spades\n",
      "5 of Hearts\n",
      "6 of Clubs\n",
      "7 of Diamonds\n",
      "8 of Spades\n",
      "9 of Hearts\n",
      "Jack of Clubs\n",
      "Queen of Diamonds\n",
      "King of Spades\n",
      "Ace of Hearts\n",
      "2 of Clubs\n",
      "3 of Diamonds\n",
      "4 of Spades\n",
      "5 of Hearts\n",
      "6 of Clubs\n",
      "7 of Diamonds\n",
      "8 of Spades\n",
      "9 of Hearts\n",
      "Jack of Clubs\n",
      "Queen of Diamonds\n",
      "King of Spades\n",
      "Ace of Hearts\n",
      "2 of Clubs\n",
      "3 of Diamonds\n",
      "4 of Spades\n",
      "5 of Hearts\n",
      "6 of Clubs\n",
      "7 of Diamonds\n",
      "8 of Spades\n",
      "9 of Hearts\n",
      "Jack of Clubs\n",
      "Queen of Diamonds\n",
      "King of Spades\n",
      "Ace of Hearts\n"
     ]
    },
    {
     "data": {
      "text/plain": [
       "[['2', 'Clubs'],\n",
       " ['3', 'Diamonds'],\n",
       " ['4', 'Spades'],\n",
       " ['5', 'Hearts'],\n",
       " ['6', 'Clubs'],\n",
       " ['7', 'Diamonds'],\n",
       " ['8', 'Spades'],\n",
       " ['9', 'Hearts'],\n",
       " ['Jack', 'Clubs'],\n",
       " ['Queen', 'Diamonds'],\n",
       " ['King', 'Spades'],\n",
       " ['Ace', 'Hearts'],\n",
       " ['2', 'Clubs'],\n",
       " ['3', 'Diamonds'],\n",
       " ['4', 'Spades'],\n",
       " ['5', 'Hearts'],\n",
       " ['6', 'Clubs'],\n",
       " ['7', 'Diamonds'],\n",
       " ['8', 'Spades'],\n",
       " ['9', 'Hearts'],\n",
       " ['Jack', 'Clubs'],\n",
       " ['Queen', 'Diamonds'],\n",
       " ['King', 'Spades'],\n",
       " ['Ace', 'Hearts'],\n",
       " ['2', 'Clubs'],\n",
       " ['3', 'Diamonds'],\n",
       " ['4', 'Spades'],\n",
       " ['5', 'Hearts'],\n",
       " ['6', 'Clubs'],\n",
       " ['7', 'Diamonds'],\n",
       " ['8', 'Spades'],\n",
       " ['9', 'Hearts'],\n",
       " ['Jack', 'Clubs'],\n",
       " ['Queen', 'Diamonds'],\n",
       " ['King', 'Spades'],\n",
       " ['Ace', 'Hearts']]"
      ]
     },
     "execution_count": 173,
     "metadata": {},
     "output_type": "execute_result"
    }
   ],
   "source": [
    "Deck().create_stack()"
   ]
  },
  {
   "cell_type": "code",
   "execution_count": 162,
   "metadata": {},
   "outputs": [],
   "source": [
    "\n",
    "def say_whee():\n",
    "    print(\"Whee!\")\n",
    "\n",
    "say_whee = my_decorator(say_whee)"
   ]
  },
  {
   "cell_type": "code",
   "execution_count": 164,
   "metadata": {},
   "outputs": [
    {
     "name": "stdout",
     "output_type": "stream",
     "text": [
      "Before\n",
      "Hello World\n",
      "After\n"
     ]
    }
   ],
   "source": [
    "def my_decorator(func):\n",
    "    def wrapper():\n",
    "        print(\"Before\")\n",
    "        func()\n",
    "        print(\"After\")\n",
    "    return wrapper\n",
    "\n",
    "@my_decorator\n",
    "def  hello_world():\n",
    "    print(\"Hello World\")\n",
    "    \n",
    "hello_world()"
   ]
  },
  {
   "cell_type": "code",
   "execution_count": 227,
   "metadata": {},
   "outputs": [],
   "source": [
    "def loop_the_function(func):\n",
    "    def wrapper(num):\n",
    "        val=func(num)\n",
    "        for i in range(0,5):\n",
    "            \n",
    "            val+=1\n",
    "            print(val)\n",
    "    return wrapper\n",
    "\n",
    "@loop_the_function\n",
    "def add_one(num):\n",
    "    return num+1\n",
    "\n",
    "\n",
    "    "
   ]
  },
  {
   "cell_type": "code",
   "execution_count": 228,
   "metadata": {},
   "outputs": [
    {
     "name": "stdout",
     "output_type": "stream",
     "text": [
      "7\n",
      "8\n",
      "9\n",
      "10\n",
      "11\n"
     ]
    }
   ],
   "source": [
    "add_one(5)"
   ]
  },
  {
   "cell_type": "code",
   "execution_count": null,
   "metadata": {},
   "outputs": [],
   "source": []
  }
 ],
 "metadata": {
  "kernelspec": {
   "display_name": "Python 3",
   "language": "python",
   "name": "python3"
  },
  "language_info": {
   "codemirror_mode": {
    "name": "ipython",
    "version": 3
   },
   "file_extension": ".py",
   "mimetype": "text/x-python",
   "name": "python",
   "nbconvert_exporter": "python",
   "pygments_lexer": "ipython3",
   "version": "3.7.3"
  }
 },
 "nbformat": 4,
 "nbformat_minor": 2
}
